{
 "cells": [
  {
   "cell_type": "code",
   "execution_count": 2,
   "id": "furnished-blast",
   "metadata": {},
   "outputs": [
    {
     "name": "stdout",
     "output_type": "stream",
     "text": [
      "                                         \r"
     ]
    },
    {
     "data": {
      "text/plain": [
       "True"
      ]
     },
     "execution_count": 2,
     "metadata": {},
     "output_type": "execute_result"
    }
   ],
   "source": [
    "# CPTAC python tutorial 1: downloading dataset\n",
    "\n",
    "import subprocess\n",
    "import sys\n",
    "\n",
    "def install(package):\n",
    "    subprocess.check_call([sys.executable, \"-m\", \"pip\", \"install\", package])\n",
    "\n",
    "install(\"cptac\")\n",
    "import cptac\n",
    "\n",
    "cptac.list_datasets()\n",
    "cptac.download(dataset=\"Brca\")\n",
    "br = cptac.Brca()\n",
    "# br.list_data()\n",
    "# proteomics = br.get_proteins()\n",
    "# samples = proteomicseomics.index\n",
    "# samples = proteomics.index\n",
    "# proteins = proteomics.columns\n",
    "# print(\"Samples:\",samples[0:20].tolist()) #the first twenty samples\n",
    "# print(\"Proteins:\",proteins[0:20].tolist()) #the first twenty proteins\n",
    "# proteomics.head()\n"
   ]
  },
  {
   "cell_type": "code",
   "execution_count": 5,
   "id": "unsigned-hypothetical",
   "metadata": {},
   "outputs": [
    {
     "data": {
      "text/plain": [
       "<module 'sys' (built-in)>"
      ]
     },
     "execution_count": 5,
     "metadata": {},
     "output_type": "execute_result"
    }
   ],
   "source": [
    "#cptac.download(dataset=\"Brca\")"
   ]
  },
  {
   "cell_type": "code",
   "execution_count": null,
   "id": "governmental-security",
   "metadata": {},
   "outputs": [],
   "source": [
    "br = cptac.Brca()"
   ]
  },
  {
   "cell_type": "code",
   "execution_count": null,
   "id": "hollow-integral",
   "metadata": {},
   "outputs": [],
   "source": []
  },
  {
   "cell_type": "code",
   "execution_count": null,
   "id": "excessive-teaching",
   "metadata": {},
   "outputs": [],
   "source": []
  },
  {
   "cell_type": "code",
   "execution_count": null,
   "id": "excited-vehicle",
   "metadata": {},
   "outputs": [],
   "source": []
  }
 ],
 "metadata": {
  "kernelspec": {
   "display_name": "Python 3",
   "language": "python",
   "name": "python3"
  },
  "language_info": {
   "codemirror_mode": {
    "name": "ipython",
    "version": 3
   },
   "file_extension": ".py",
   "mimetype": "text/x-python",
   "name": "python",
   "nbconvert_exporter": "python",
   "pygments_lexer": "ipython3",
   "version": "3.9.1"
  }
 },
 "nbformat": 4,
 "nbformat_minor": 5
}
