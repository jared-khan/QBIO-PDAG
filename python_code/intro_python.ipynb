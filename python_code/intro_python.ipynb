{
 "cells": [
  {
   "cell_type": "markdown",
   "id": "national-ivory",
   "metadata": {},
   "source": [
    "# Introduction to Python and Jupyter\n",
    "\n",
    "This follow-along notebook will introduce basic Python syntax and constructs to familiarize people with the language. We will also familiarize people with the flow of Jupyter notebooks."
   ]
  },
  {
   "cell_type": "markdown",
   "id": "furnished-interference",
   "metadata": {},
   "source": [
    "## Jupyter basics: commands at the top of the notebook\n",
    "\n",
    "Jupyter-notebooks follows a modular block format. You can create and delete cells, and also dictate the purpose of the cell. For example, this cell and the previous cell are in **Markdown** format, which is a language that allows people to format their text. To change between Python and Markdown, click on the drop-down menu right next to the fast forward button above.\n",
    "\n",
    "In **Markdown** cells, you'll notice that there is no ```In [ ]:``` on the left of the cell. This is because they do not contain code to run, but rather have more lengthy blocks of text like this description. You'll know if a block is Python if there is ```In [ ]:``` on the left."
   ]
  },
  {
   "cell_type": "code",
   "execution_count": 1,
   "id": "twenty-greece",
   "metadata": {},
   "outputs": [
    {
     "data": {
      "text/plain": [
       "4"
      ]
     },
     "execution_count": 1,
     "metadata": {},
     "output_type": "execute_result"
    }
   ],
   "source": [
    "# This is a Python block now. Try clicking the run button on the top of this page to run this cell.\n",
    "2 + 2"
   ]
  },
  {
   "cell_type": "markdown",
   "id": "spectacular-fiber",
   "metadata": {},
   "source": [
    "Notice how when you ran the previous cell, ```In [ ]:``` became ```In [1]:```. This is a handy way to keep\n",
    "track of all the order you run your cells. While ideally we run everything in sequential order, we still have the freedom to modify the cells and run them in whatever order we please. The ordering of the blocks can help you debug issues related to variables.\n",
    "\n",
    "Another observation is that after running blocks of Python code, there will be a corresponding ```Out[]:``` cell. Jupyter is great in that it also modularizes the output of all of your code - ```Out[1]:``` will only print out output from the same ```In``` cell!"
   ]
  },
  {
   "cell_type": "code",
   "execution_count": 6,
   "id": "smoking-henry",
   "metadata": {},
   "outputs": [
    {
     "ename": "KeyboardInterrupt",
     "evalue": "",
     "output_type": "error",
     "traceback": [
      "\u001b[0;31m---------------------------------------------------------------------------\u001b[0m",
      "\u001b[0;31mKeyboardInterrupt\u001b[0m                         Traceback (most recent call last)",
      "\u001b[0;32m<ipython-input-6-89bcf8198547>\u001b[0m in \u001b[0;36m<module>\u001b[0;34m\u001b[0m\n\u001b[1;32m      1\u001b[0m \u001b[0;31m# Try running the below code and look at the next cell.\u001b[0m\u001b[0;34m\u001b[0m\u001b[0;34m\u001b[0m\u001b[0;34m\u001b[0m\u001b[0m\n\u001b[1;32m      2\u001b[0m \u001b[0;32mwhile\u001b[0m \u001b[0;32mTrue\u001b[0m\u001b[0;34m:\u001b[0m\u001b[0;34m\u001b[0m\u001b[0;34m\u001b[0m\u001b[0m\n\u001b[0;32m----> 3\u001b[0;31m     \u001b[0;32mpass\u001b[0m\u001b[0;34m\u001b[0m\u001b[0;34m\u001b[0m\u001b[0m\n\u001b[0m",
      "\u001b[0;31mKeyboardInterrupt\u001b[0m: "
     ]
    }
   ],
   "source": [
    "# Try running the below code and look at the next cell.\n",
    "while True:\n",
    "    pass"
   ]
  },
  {
   "cell_type": "markdown",
   "id": "ideal-favor",
   "metadata": {},
   "source": [
    "Notice how on the left,```In[*]``` doesn't become ```In[2]```. This is because I made\n",
    "this a simple infinite loop, and the block will never finish. The purpose of this is for you to try out the \n",
    "square button next to **Run** on the top of the notebook to cancel any cells that are still processing."
   ]
  },
  {
   "cell_type": "markdown",
   "id": "dedicated-wright",
   "metadata": {},
   "source": [
    "Next to the square, we have the restart and the fast forward buttons. The restart erases all variables from the kernel, and the fast forward does the restart then reruns each cell. These are great for making sure that all of your steps in the right order and that your notebook works from start to finish."
   ]
  },
  {
   "cell_type": "markdown",
   "id": "canadian-individual",
   "metadata": {},
   "source": [
    "Finally, we have the cut, copy, and paste buttons to the left of the **Run** button. These act directly on the cells and give you the freedom to manipulate cells pretty easily. To insert a cell, click the plus button next to the save button on the very left. To delete a cell, select the cell of interest by clicking the `In [ ]: ` section (it should be highlighted in blue) and typing `dd`. "
   ]
  },
  {
   "cell_type": "markdown",
   "id": "unexpected-replica",
   "metadata": {},
   "source": [
    "# Python Tutorial\n",
    "\n",
    "Now that we have a sense of how Jupyter works, let's proceed with a basic introduction to Python. Python is an interpreted language, which means that we do not need to compile code (eg. C++, Java) in order to program. This means that all we need to do is open a Python interpreter (eg. the blocks of code with `In []:`, type code, and immediately see the execution. Thus, we can test and learn Python syntax relatively quickly."
   ]
  },
  {
   "cell_type": "markdown",
   "id": "applied-ceiling",
   "metadata": {},
   "source": [
    "## Print statement\n",
    "\n",
    "The first thing to go over is the `print` statement. Python's is very straightforward: all you type is `print()`, and then the value that you want to print in the parentheses. Print will operate on many base data types, and it will also print any statements to be evaluated within the parentheses."
   ]
  },
  {
   "cell_type": "code",
   "execution_count": 16,
   "id": "saving-kruger",
   "metadata": {},
   "outputs": [
    {
     "name": "stdout",
     "output_type": "stream",
     "text": [
      "Hello world!\n",
      "40.0\n",
      "3\n"
     ]
    }
   ],
   "source": [
    "print(\"Hello world!\")\n",
    "print(\"40.0\")\n",
    "print(1 + 2)"
   ]
  },
  {
   "cell_type": "code",
   "execution_count": 13,
   "id": "supported-audience",
   "metadata": {},
   "outputs": [
    {
     "name": "stdout",
     "output_type": "stream",
     "text": [
      "<class 'int'>\n",
      "<class 'str'>\n",
      "<class 'list'>\n"
     ]
    }
   ],
   "source": [
    "print(type(8))\n",
    "print(type(\"hi\"))\n",
    "print(type([]))"
   ]
  },
  {
   "cell_type": "code",
   "execution_count": null,
   "id": "expected-frontier",
   "metadata": {},
   "outputs": [],
   "source": []
  },
  {
   "cell_type": "code",
   "execution_count": null,
   "id": "altered-style",
   "metadata": {},
   "outputs": [],
   "source": []
  },
  {
   "cell_type": "code",
   "execution_count": null,
   "id": "variable-ladder",
   "metadata": {},
   "outputs": [],
   "source": []
  },
  {
   "cell_type": "code",
   "execution_count": null,
   "id": "registered-neutral",
   "metadata": {},
   "outputs": [],
   "source": []
  },
  {
   "cell_type": "code",
   "execution_count": null,
   "id": "stunning-shelf",
   "metadata": {},
   "outputs": [],
   "source": []
  },
  {
   "cell_type": "markdown",
   "id": "objective-general",
   "metadata": {},
   "source": [
    "## Variables\n",
    "A variable is a container that stores some value. We use variables to Python is dynamically typed, which means that we don't need to define the type of a variable a priori. This is great because we can easily move between data types if our program calls for it. Defining a variable "
   ]
  },
  {
   "cell_type": "code",
   "execution_count": 22,
   "id": "invalid-eagle",
   "metadata": {},
   "outputs": [
    {
     "name": "stdout",
     "output_type": "stream",
     "text": [
      "string\n",
      "5\n"
     ]
    }
   ],
   "source": [
    "x = \"string\"\n",
    "print(x)\n",
    "x = 5\n",
    "print(x)"
   ]
  },
  {
   "cell_type": "markdown",
   "id": "industrial-visibility",
   "metadata": {},
   "source": [
    "### Exercise: \n",
    "Define a variable y that is equal to x times 2 + 1, and then print the value of y."
   ]
  },
  {
   "cell_type": "code",
   "execution_count": null,
   "id": "patient-tonight",
   "metadata": {},
   "outputs": [],
   "source": []
  },
  {
   "cell_type": "code",
   "execution_count": null,
   "id": "sitting-growth",
   "metadata": {},
   "outputs": [],
   "source": []
  },
  {
   "cell_type": "markdown",
   "id": "forty-channel",
   "metadata": {},
   "source": [
    "## Loops\n",
    "\n",
    "Code that is within a loop is executed for the number of times that the loop will run."
   ]
  },
  {
   "cell_type": "code",
   "execution_count": 21,
   "id": "every-claim",
   "metadata": {},
   "outputs": [
    {
     "name": "stdout",
     "output_type": "stream",
     "text": [
      "0\n",
      "1\n",
      "2\n",
      "0\n",
      "1\n",
      "2\n"
     ]
    }
   ],
   "source": [
    "# while loop to print 0, 1, 2\n",
    "i = 0\n",
    "while i < 3:\n",
    "    print(i)\n",
    "    i += 1\n",
    "    \n",
    "# for loop that does the same thing\n",
    "for j in range(3):\n",
    "    print(j)"
   ]
  },
  {
   "cell_type": "markdown",
   "id": "incoming-abraham",
   "metadata": {},
   "source": [
    "## Control Flow: If, else, elif\n",
    "\n"
   ]
  }
 ],
 "metadata": {
  "kernelspec": {
   "display_name": "Python 3",
   "language": "python",
   "name": "python3"
  },
  "language_info": {
   "codemirror_mode": {
    "name": "ipython",
    "version": 3
   },
   "file_extension": ".py",
   "mimetype": "text/x-python",
   "name": "python",
   "nbconvert_exporter": "python",
   "pygments_lexer": "ipython3",
   "version": "3.8.5"
  }
 },
 "nbformat": 4,
 "nbformat_minor": 5
}
