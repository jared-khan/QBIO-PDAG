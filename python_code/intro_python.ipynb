{
 "cells": [
  {
   "cell_type": "markdown",
   "id": "every-inventory",
   "metadata": {},
   "source": [
    "# Introduction to Python and Jupyter\n",
    "\n",
    "This follow-along notebook will introduce basic Python syntax and constructs to familiarize people with the language. We will also familiarize people with the flow of Jupyter notebooks."
   ]
  },
  {
   "cell_type": "markdown",
   "id": "patient-circuit",
   "metadata": {},
   "source": [
    "## Jupyter basics: commands at the top of the notebook\n",
    "\n",
    "Jupyter-notebooks follows a modular block format. You can create and delete cells, and also dictate the purpose of the cell. For example, this cell and the previous cell are in **Markdown** format, which is a language that allows people to format their text. To change between Python and Markdown, click on the drop-down menu right next to the fast forward button above.\n",
    "\n",
    "In **Markdown** cells, you'll notice that there is no ```In [ ]:``` on the left of the cell. This is because they do not contain code to run, but rather have more lengthy blocks of text like this description. You'll know if a block is Python if there is ```In [ ]:``` on the left."
   ]
  },
  {
   "cell_type": "code",
   "execution_count": 1,
   "id": "strong-disclaimer",
   "metadata": {},
   "outputs": [
    {
     "data": {
      "text/plain": [
       "4"
      ]
     },
     "execution_count": 1,
     "metadata": {},
     "output_type": "execute_result"
    }
   ],
   "source": [
    "# This is a Python block now. Try clicking the run button on the top of this page\n",
    "# or type Shift + Enter to run this cell.\n",
    "2 + 2"
   ]
  },
  {
   "cell_type": "markdown",
   "id": "specific-qatar",
   "metadata": {},
   "source": [
    "Notice how when you ran the previous cell, ```In [ ]:``` became ```In [1]:```. This is a handy way to keep\n",
    "track of all the order you run your cells. While ideally we run everything in sequential order, we still have the freedom to modify the cells and run them in whatever order we please. The ordering of the blocks can help you debug issues related to variables.\n",
    "\n",
    "Another observation is that after running blocks of Python code, there will be a corresponding ```Out[]:``` cell. Jupyter is great in that it also modularizes the output of all of your code - ```Out[1]:``` will only print out output from the same ```In``` cell!"
   ]
  },
  {
   "cell_type": "code",
   "execution_count": 2,
   "id": "stopped-elizabeth",
   "metadata": {},
   "outputs": [
    {
     "ename": "KeyboardInterrupt",
     "evalue": "",
     "output_type": "error",
     "traceback": [
      "\u001b[0;31m---------------------------------------------------------------------------\u001b[0m",
      "\u001b[0;31mKeyboardInterrupt\u001b[0m                         Traceback (most recent call last)",
      "\u001b[0;32m<ipython-input-2-89bcf8198547>\u001b[0m in \u001b[0;36m<module>\u001b[0;34m\u001b[0m\n\u001b[1;32m      1\u001b[0m \u001b[0;31m# Try running the below code and look at the next cell.\u001b[0m\u001b[0;34m\u001b[0m\u001b[0;34m\u001b[0m\u001b[0;34m\u001b[0m\u001b[0m\n\u001b[1;32m      2\u001b[0m \u001b[0;32mwhile\u001b[0m \u001b[0;32mTrue\u001b[0m\u001b[0;34m:\u001b[0m\u001b[0;34m\u001b[0m\u001b[0;34m\u001b[0m\u001b[0m\n\u001b[0;32m----> 3\u001b[0;31m     \u001b[0;32mpass\u001b[0m\u001b[0;34m\u001b[0m\u001b[0;34m\u001b[0m\u001b[0m\n\u001b[0m",
      "\u001b[0;31mKeyboardInterrupt\u001b[0m: "
     ]
    }
   ],
   "source": [
    "# Try running the below code and look at the next cell.\n",
    "while True:\n",
    "    pass"
   ]
  },
  {
   "cell_type": "markdown",
   "id": "colored-roommate",
   "metadata": {},
   "source": [
    "Notice how on the left,```In[*]``` doesn't become ```In[2]```. This is because I made\n",
    "this a simple infinite loop, and the block will never finish. The purpose of this is for you to try out the \n",
    "square button next to **Run** on the top of the notebook to cancel any cells that are still processing."
   ]
  },
  {
   "cell_type": "markdown",
   "id": "decreased-ghana",
   "metadata": {},
   "source": [
    "Next to the square, we have the restart and the fast forward buttons. The restart erases all variables from the kernel, and the fast forward does the restart then reruns each cell. These are great for making sure that all of your steps in the right order and that your notebook works from start to finish."
   ]
  },
  {
   "cell_type": "markdown",
   "id": "infectious-limit",
   "metadata": {},
   "source": [
    "Finally, we have the cut, copy, and paste buttons to the left of the **Run** button. The arrow keys also the cells up and down. These act directly on the cells and give you the freedom to manipulate cells pretty easily. To insert a cell, click the plus button next to the save button on the very left. To delete a cell, select the cell of interest by clicking the `In [ ]: ` section (it should be highlighted in blue) and typing `dd`. You can click the **Help** button and go down to **Keyboard Shortcuts** to see what shortcuts are available. You can also edit and create new shortcuts to your own liking."
   ]
  },
  {
   "cell_type": "markdown",
   "id": "ideal-adobe",
   "metadata": {},
   "source": [
    "# Python Tutorial\n",
    "\n",
    "Now that we have a sense of how Jupyter works, let's proceed with a basic introduction to Python. Python is an interpreted language, which means that we do not need to compile code (eg. C++, Java) in order to program. This means that all we need to do is open a Python interpreter (eg. the blocks of code with `In []:`, type code, and immediately see the execution. Thus, we can test and learn Python syntax relatively quickly."
   ]
  },
  {
   "cell_type": "markdown",
   "id": "global-phrase",
   "metadata": {},
   "source": [
    "## Print statement\n",
    "\n",
    "The first thing to go over is the `print` statement. Python's is very straightforward: all you type is `print()`, and then the value that you want to print in the parentheses. Print will operate on many base data types, and it will also print any statements to be evaluated within the parentheses."
   ]
  },
  {
   "cell_type": "code",
   "execution_count": null,
   "id": "unnecessary-norfolk",
   "metadata": {},
   "outputs": [],
   "source": [
    "print(\"Hello world!\")\n",
    "print(\"40.0\")\n",
    "print(1 + 2)"
   ]
  },
  {
   "cell_type": "markdown",
   "id": "continuing-background",
   "metadata": {},
   "source": [
    "In programming, all values have a type. Most programming languages share common types, eg. int, float, string. In Python, the list is a very common type of data that is used as well. The `type()` function will tell you what type the value in the parentheses is."
   ]
  },
  {
   "cell_type": "code",
   "execution_count": null,
   "id": "alternative-satisfaction",
   "metadata": {},
   "outputs": [],
   "source": [
    "print(type(8))\n",
    "print(type(42.1))\n",
    "print(type(\"hi\"))\n",
    "print(type([]))"
   ]
  },
  {
   "cell_type": "markdown",
   "id": "other-blocking",
   "metadata": {},
   "source": [
    "## Variables\n",
    "A variable is a container that stores some value. We use variables to contextualize all of the values that we store. Python is dynamically typed, which means that we don't need to specify the type of a variable when we create it. This is great because we can easily move between data types if our program calls for it. The syntax for defining a variable is: `variable = value`."
   ]
  },
  {
   "cell_type": "code",
   "execution_count": null,
   "id": "anonymous-treasurer",
   "metadata": {},
   "outputs": [],
   "source": [
    "x = \"string\"\n",
    "print(x)\n",
    "\n",
    "x = 5\n",
    "print(x)\n",
    "\n",
    "# defining a list - lists can have multiple types of data in them!\n",
    "y = [1, \"hi\", 81.9, x]\n",
    "print(y)"
   ]
  },
  {
   "cell_type": "code",
   "execution_count": null,
   "id": "composed-metabolism",
   "metadata": {},
   "outputs": [],
   "source": [
    "# Exercise: Define a variable z that is equal to x times 2 + 1, and then print the value of z.\n"
   ]
  },
  {
   "cell_type": "markdown",
   "id": "dynamic-drama",
   "metadata": {},
   "source": [
    "Indexing for lists is much like R, **except we start at 0**. We use the following syntax to access the i'th element of the list: `list_name[i]`, where i is the index of the list. Python also has slicing, where you can access multiple elements of a list with `list_name[i:j]`. Slicing excludes the j'th element. Finally, a really cool trick to read from the back of the list is to use negative indexing. `list_name[-i]` will access the i'th element starting from the back of the list."
   ]
  },
  {
   "cell_type": "code",
   "execution_count": null,
   "id": "victorian-output",
   "metadata": {},
   "outputs": [],
   "source": [
    "#Exercise: access the 2nd element of y\n"
   ]
  },
  {
   "cell_type": "code",
   "execution_count": null,
   "id": "broke-child",
   "metadata": {},
   "outputs": [],
   "source": [
    "#Exercise: access the first three elements of y using slicing\n"
   ]
  },
  {
   "cell_type": "code",
   "execution_count": null,
   "id": "approximate-terrain",
   "metadata": {},
   "outputs": [],
   "source": [
    "#Exercise: access the last element of y using negative indexing\n"
   ]
  },
  {
   "cell_type": "markdown",
   "id": "fatal-novel",
   "metadata": {},
   "source": [
    "## Control Flow: If, else, elif\n",
    "\n",
    "Control flow refers to the methods that determine which sections of our program run. We have three main constructs: `if`, `else`, and `elif`. The three statements look at a condition and see if it evaluates True or False. This is useful to organize code into chunks that are conditional/dependent on the values of particular variables. These statements are pretty universal in programming, and the syntax in Python is quite straightforward: `if/elif condition:`. Remember that you can chain conditions using the `and`/`or` keywords.\n",
    "\n",
    "We'll use the input function to allow you to enter numbers and see control flow in action. After you run the cell, the same cell wil prompt you to give some input."
   ]
  },
  {
   "cell_type": "code",
   "execution_count": 3,
   "id": "vertical-pakistan",
   "metadata": {},
   "outputs": [
    {
     "name": "stdout",
     "output_type": "stream",
     "text": [
      "Enter a number between 0 and 10: 1\n",
      "Small number!\n"
     ]
    }
   ],
   "source": [
    "# var is casted as an int because by default, input is read as a string\n",
    "var = int(input(\"Enter a number between 0 and 10: \"))\n",
    "if var >= 7:\n",
    "    print(\"Big number!\")\n",
    "elif var >= 3 and var < 7:\n",
    "    print(\"Medium number!\")\n",
    "else: # implies var < 5 and var > 0\n",
    "    print(\"Small number!\")"
   ]
  },
  {
   "cell_type": "code",
   "execution_count": 2,
   "id": "mighty-graham",
   "metadata": {},
   "outputs": [],
   "source": [
    "# Exercise: experiment with the 'or' keyword by rewriting\n",
    "# the above example using 'or' instead of 'and'\n"
   ]
  },
  {
   "cell_type": "markdown",
   "id": "prospective-fortune",
   "metadata": {},
   "source": [
    "## Loops\n",
    "\n",
    "Code that is within a loop is executed for the number of times that the loop will run. In Python, there are two types of loops: the `while` and `for` loops. `For` loops are much more common, and in Python they also have more functionality, so we will only go over `for` loops.\n"
   ]
  },
  {
   "cell_type": "markdown",
   "id": "mediterranean-buffalo",
   "metadata": {},
   "source": [
    "### For Loops\n",
    "The structure of a for loop is similar to for loops in R and C++, with a more simple format. "
   ]
  },
  {
   "cell_type": "code",
   "execution_count": null,
   "id": "attached-basket",
   "metadata": {},
   "outputs": [],
   "source": [
    "# the range function produces a sequence of numbers from 0 to the first argument minus 1.\n",
    "# use range(x, y) to start from x and end at y - 1.\n",
    "#Exercise: Before running the following for loops, predict the output, ie For each iteration, what will j equal?\n",
    "for j in range(3):\n",
    "    print(j)\n",
    "\n",
    "for j in range(10,12):\n",
    "    print(j)"
   ]
  },
  {
   "cell_type": "code",
   "execution_count": null,
   "id": "dense-exemption",
   "metadata": {},
   "outputs": [],
   "source": [
    "# For loops are often used to access elements of a list\n",
    "for j in range(3):\n",
    "    print(y[j])"
   ]
  },
  {
   "cell_type": "code",
   "execution_count": null,
   "id": "packed-native",
   "metadata": {},
   "outputs": [],
   "source": [
    "# Exercise: Print every element of y using a for loop. Note that len(list_name) returns the length of the list. \n",
    "# What is the relationship between the final index of a list and the length of a list?\n",
    "print(len(y))\n",
    "\n"
   ]
  },
  {
   "cell_type": "code",
   "execution_count": 4,
   "id": "atomic-elephant",
   "metadata": {},
   "outputs": [],
   "source": [
    "# Exercise: range() accepts a third argument, the step size. Print every element of y in\n",
    "# reverse order by adding the third argument (think: how to iterate backwards?)\n",
    "\n"
   ]
  },
  {
   "cell_type": "markdown",
   "id": "gorgeous-carpet",
   "metadata": {},
   "source": [
    "Alternatively, you can loop through the actual elements of a list using `for element in list_name:`"
   ]
  },
  {
   "cell_type": "code",
   "execution_count": null,
   "id": "manufactured-collectible",
   "metadata": {},
   "outputs": [],
   "source": [
    "#Exercise: Print every element of y using this format.\n",
    "#Here, \"element\" is the name of a variable, so you can pick any word that represents the elements in your list\n"
   ]
  },
  {
   "cell_type": "markdown",
   "id": "excess-homework",
   "metadata": {},
   "source": [
    "Finally, you can use `enumerate` to combine both strategies above. `for index, element in enumerate(list_name):` loops through the list in the parethensis. The index for each iteration of the for loop will start at 0 and increase by one until it reaches the final index of the list.  "
   ]
  },
  {
   "cell_type": "code",
   "execution_count": 3,
   "id": "useful-entry",
   "metadata": {},
   "outputs": [
    {
     "ename": "NameError",
     "evalue": "name 'y' is not defined",
     "output_type": "error",
     "traceback": [
      "\u001b[0;31m---------------------------------------------------------------------------\u001b[0m",
      "\u001b[0;31mNameError\u001b[0m                                 Traceback (most recent call last)",
      "\u001b[0;32m<ipython-input-3-a6291eb04d8d>\u001b[0m in \u001b[0;36m<module>\u001b[0;34m\u001b[0m\n\u001b[0;32m----> 1\u001b[0;31m \u001b[0;32mfor\u001b[0m \u001b[0mi\u001b[0m\u001b[0;34m,\u001b[0m \u001b[0melem\u001b[0m \u001b[0;32min\u001b[0m \u001b[0menumerate\u001b[0m\u001b[0;34m(\u001b[0m\u001b[0my\u001b[0m\u001b[0;34m)\u001b[0m\u001b[0;34m:\u001b[0m\u001b[0;34m\u001b[0m\u001b[0;34m\u001b[0m\u001b[0m\n\u001b[0m\u001b[1;32m      2\u001b[0m     \u001b[0mprint\u001b[0m\u001b[0;34m(\u001b[0m\u001b[0;34m\"element at \"\u001b[0m\u001b[0;34m,\u001b[0m \u001b[0mi\u001b[0m\u001b[0;34m,\u001b[0m \u001b[0;34m\"is \"\u001b[0m\u001b[0;34m,\u001b[0m \u001b[0melem\u001b[0m\u001b[0;34m)\u001b[0m\u001b[0;34m\u001b[0m\u001b[0;34m\u001b[0m\u001b[0m\n\u001b[1;32m      3\u001b[0m     \u001b[0;31m#notice how you can also use commas to print multiple things in one print statement\u001b[0m\u001b[0;34m\u001b[0m\u001b[0;34m\u001b[0m\u001b[0;34m\u001b[0m\u001b[0m\n\u001b[1;32m      4\u001b[0m \u001b[0;34m\u001b[0m\u001b[0m\n",
      "\u001b[0;31mNameError\u001b[0m: name 'y' is not defined"
     ]
    }
   ],
   "source": [
    "for i, elem in enumerate(y):\n",
    "    print(\"element at \", i, \"is \", elem) \n",
    "    #notice how you can also use commas to print multiple things in one print statement\n",
    "    \n"
   ]
  },
  {
   "cell_type": "markdown",
   "id": "failing-consolidation",
   "metadata": {},
   "source": [
    "##  Installing Packages\n",
    "Similar to R, we need to install and load in any packages that we want to use in our Python code. When you set up your conda environment, we had you install the packages listed in `requirements.txt`. One main difference between package installation in R and Python is that Python packages need to be installed in the Terminal. If you ever want to import a package but it is not found, you need to install it! There are two main ways to install packages in your conda environment. `conda install package_name` uses Anaconda's installation to install the package. Another common way to install a package is using `pip install package_name`. Understanding the difference in these two commands is not needed. **Note: NOT all packages are available for install on both `conda` and `pip`. Google your needed package and you can find how to install it correctly.** "
   ]
  },
  {
   "cell_type": "markdown",
   "id": "polish-quarterly",
   "metadata": {},
   "source": [
    "## Importing a package once it is installed\n",
    "Similar to using `library()` in R, we need to use `import` to load a needed package into the Python environment. Use `import package_name` to import a package into your Python environment. Remember that loading packages into an environment allows you to use specific functions of that package. For example, in R we did `library(TCGAbiolinks)` and then was able to use the `GDCquery()` function. **DIFFERENT in Python**: we need to specify what package the function we are using originates from. We do this through syntax: `package_name.function()`"
   ]
  },
  {
   "cell_type": "code",
   "execution_count": 2,
   "id": "third-peter",
   "metadata": {},
   "outputs": [
    {
     "data": {
      "text/plain": [
       "5"
      ]
     },
     "execution_count": 2,
     "metadata": {},
     "output_type": "execute_result"
    }
   ],
   "source": [
    "import math\n",
    "math.ceil(4.9)"
   ]
  },
  {
   "cell_type": "code",
   "execution_count": 6,
   "id": "usual-logic",
   "metadata": {},
   "outputs": [],
   "source": [
    "#Exercise: From the math library, use the floor() function and a for loop to find the floor of each element of x_list\n",
    "x_list= [1.4, 5.6, 7.9, -0.13]\n",
    "\n"
   ]
  },
  {
   "cell_type": "markdown",
   "id": "enabling-patient",
   "metadata": {},
   "source": [
    "It may be helpful to create an alias for a package name so we don't have to type the entire package name every time. To do this use the follow syntax: `import library_name as short_name`"
   ]
  },
  {
   "cell_type": "code",
   "execution_count": 14,
   "id": "vital-nudist",
   "metadata": {},
   "outputs": [],
   "source": [
    "#Exercise: Import the package numpy using the alias np\n",
    "\n"
   ]
  },
  {
   "cell_type": "code",
   "execution_count": 10,
   "id": "graphic-classic",
   "metadata": {},
   "outputs": [],
   "source": [
    "#Exercise: Use numpy's unique() function to find the unique elements of y_list\n",
    "y_list = [\"red\", \"blue\", \"green\", \"red\", \"red\", \"yellow\", \"blue\"]\n"
   ]
  },
  {
   "cell_type": "code",
   "execution_count": null,
   "id": "thrown-sleeping",
   "metadata": {},
   "outputs": [],
   "source": [
    "#Exercise: Find the length of the unique() function's output using len(). What does this represent?\n"
   ]
  },
  {
   "cell_type": "code",
   "execution_count": 13,
   "id": "indie-interpretation",
   "metadata": {},
   "outputs": [],
   "source": [
    "#Exercise: Repeat, but set the unqiue() function return_counts argument to True. \n",
    "#Notice how in R, TRUE is in all caps, but in Python True only contains a capital T.\n",
    "#Look at the two arrays generated by unique(). What do these represent?\n",
    "#How can you access the first array generated by unqiue()?\n",
    "\n"
   ]
  },
  {
   "cell_type": "markdown",
   "id": "faced-viewer",
   "metadata": {},
   "source": [
    "## Processing Files\n",
    "\n",
    "# Terence: Do you thing this is needed? I usually just use pandas to open a csv, tsv, etc. Do you usually use with open?\n",
    "\n",
    "Processing files is pretty easy in Python. When looking for files, Python searches in the directory from which you run Python code. Changing directories requires the use of a different library. To open a file, use `with open(filename, 'r/w') as name:` for the syntax. `r/w` stand for read/write modes; we specify one or the other to indicate our purpose for opening a file. Sometimes, we just need to read in data, and other times we want to directly edit the file. Note that if we do `w` mode, then we can open a file that doesn't exist yet and write into it. Being explicit about the purpose is good practice.\n",
    "\n",
    "After we read in the file, it is stored as a Python object. We need to use other functions to read or write the actual content of the files. Here, we will introduce `.readlines()`, though there are other ones you can find by Googling. Below are two examples of the above syntax:"
   ]
  },
  {
   "cell_type": "code",
   "execution_count": 54,
   "id": "opened-playback",
   "metadata": {},
   "outputs": [
    {
     "name": "stdout",
     "output_type": "stream",
     "text": [
      "['Hello world!\\n', 'Goodbye world!\\n']\n",
      "Hello world!\n",
      "\n"
     ]
    }
   ],
   "source": [
    "# We added a test.txt file for you to run this code\n",
    "\n",
    "# Read in two-line test file, notice how the end of each\n",
    "# line, the newline (\\n) character, is not removed. Google\n",
    "# a method to try and remove \\n from the readlines() function.\n",
    "# make sure that when you read files, you're in \"r\"! \"w\" mode\n",
    "# might overwrite it\n",
    "\n",
    "with open(\"test.txt\", \"r\") as fin:\n",
    "    i = fin.readlines()\n",
    "# observe that .readlines() reads each line into a separate string\n",
    "# and concatenates the strings into a list. The line numbers in\n",
    "# i and the file you read in are identical.\n",
    "print(i)\n",
    "print(i[0])\n",
    "\n",
    "# Write to a new file and observe that it works!\n",
    "# In a terminal in the same directory as this notebook,\n",
    "# type `cat output.txt` and see what's in it\n",
    "with open(\"output.txt\", \"w\") as fout:\n",
    "    fout.write(\"With open function is so cool!\\n\")\n"
   ]
  },
  {
   "cell_type": "markdown",
   "id": "black-assignment",
   "metadata": {},
   "source": [
    "## Python Lists\n",
    "# Terence: Is it okay if I delete the mutable part? I really think we should keep this as focused as possible. same with the tuples mention\n",
    "\n",
    "Lists are powerful data structures in Python. As you saw before, they can contain a mixture of different data types (though usually don't in practice), and Python also offers a few operations and functions to parse information from a list. Lists are known as a **mutable** data type - you can edit them as you please. An example of an immutable data type is a tuple. Tuples are a bit niche though and lists see more use by far. Here are a few examples of some of the operations that Python supports."
   ]
  },
  {
   "cell_type": "code",
   "execution_count": 19,
   "id": "allied-banner",
   "metadata": {},
   "outputs": [
    {
     "data": {
      "text/plain": [
       "[3, 5, 10, 11]"
      ]
     },
     "execution_count": 19,
     "metadata": {},
     "output_type": "execute_result"
    }
   ],
   "source": [
    "# add lists together\n",
    "[3, 5] + [10, 11]"
   ]
  },
  {
   "cell_type": "code",
   "execution_count": 20,
   "id": "respiratory-trade",
   "metadata": {},
   "outputs": [
    {
     "data": {
      "text/plain": [
       "[40.0, 40.0, 40.0, 40.0, 40.0, 40.0, 40.0, 40.0, 40.0, 40.0]"
      ]
     },
     "execution_count": 20,
     "metadata": {},
     "output_type": "execute_result"
    }
   ],
   "source": [
    "# multiply a list. Before running this cell, predict the output.\n",
    "#Then run this cell, was it what you expected?\n",
    "[40.0] * 10"
   ]
  },
  {
   "cell_type": "code",
   "execution_count": 16,
   "id": "changed-assembly",
   "metadata": {},
   "outputs": [
    {
     "name": "stdout",
     "output_type": "stream",
     "text": [
      "False\n",
      "True\n",
      "False\n"
     ]
    }
   ],
   "source": [
    "# the in operation checks if the list contains some element\n",
    "# use \"not in\" to negate\n",
    "#Presdict the output of each command before running the cell\n",
    "my_list = [3, 10, 14]\n",
    "print(1 in my_list)\n",
    "print(3 in my_list)\n",
    "print(10 not in my_list)"
   ]
  },
  {
   "cell_type": "code",
   "execution_count": 33,
   "id": "respective-consciousness",
   "metadata": {},
   "outputs": [
    {
     "data": {
      "text/plain": [
       "14"
      ]
     },
     "execution_count": 33,
     "metadata": {},
     "output_type": "execute_result"
    }
   ],
   "source": [
    "# min() and max() find the minimum and maximum of a list\n",
    "#Exercise: Find the min and max of my_list\n"
   ]
  },
  {
   "cell_type": "code",
   "execution_count": 36,
   "id": "optional-communication",
   "metadata": {},
   "outputs": [
    {
     "data": {
      "text/plain": [
       "[3, 10, 14, 100]"
      ]
     },
     "execution_count": 36,
     "metadata": {},
     "output_type": "execute_result"
    }
   ],
   "source": [
    "# use .append() to add elements to back of list\n",
    "my_list.append(100)\n",
    "print(my_list)"
   ]
  },
  {
   "cell_type": "code",
   "execution_count": 23,
   "id": "distributed-bermuda",
   "metadata": {},
   "outputs": [
    {
     "name": "stdout",
     "output_type": "stream",
     "text": [
      "a\n",
      "b\n",
      "c\n",
      "h\n",
      "l\n",
      "m\n",
      "n\n"
     ]
    },
    {
     "data": {
      "text/plain": [
       "array([ 1,  7, 10,  7, 43, 43, 43])"
      ]
     },
     "execution_count": 23,
     "metadata": {},
     "output_type": "execute_result"
    }
   ],
   "source": [
    "#Excercise: Follow the steps below to combine what we've learned so far!\n",
    "#1. Create an empty list called wanted_values_in_data\n",
    "#2. Use enumerate to loop through elements of all_data\n",
    "#3. If the element of all_data is equal to 57, use the continue keyword to move onto next iteration\n",
    "#   The continue keyword skips the remaining contents of the for loop and moves onto the next iteration\n",
    "#4. If the element of all_data is also in wanted_values, print the corresponding label from all_data_labels\n",
    "#   Notice how all_data_labels is the same length of all_data. \n",
    "#   Each all_data element corresponds to a label in all_data_labels\n",
    "#5. If the element is in wanted_values, append it to the wanted_values_in_data list\n",
    "#6. If the element is not in the wanted_values, print: \"The number (insert number) is not a wanted value\"\n",
    "#7. Use the unique() and len() functions to determine the number of unique elements of wanted_values_in_data\n",
    "\n",
    "all_data = [1,7,10,3,57,21,12,7,20,57,57,43,43,43]\n",
    "all_data_labels = [\"a\",\"b\",\"c\",\"d\",\"e\",\"f\",\"g\",\"h\",\"i\",\"j\",\"k\",\"l\",\"m\",\"n\"]\n",
    "\n"
   ]
  }
 ],
 "metadata": {
  "kernelspec": {
   "display_name": "Python 3",
   "language": "python",
   "name": "python3"
  },
  "language_info": {
   "codemirror_mode": {
    "name": "ipython",
    "version": 3
   },
   "file_extension": ".py",
   "mimetype": "text/x-python",
   "name": "python",
   "nbconvert_exporter": "python",
   "pygments_lexer": "ipython3",
   "version": "3.9.1"
  }
 },
 "nbformat": 4,
 "nbformat_minor": 5
}
