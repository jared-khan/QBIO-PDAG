{
 "cells": [
  {
   "cell_type": "markdown",
   "metadata": {},
   "source": [
    "# Introduction to Python and Jupyter\n",
    "\n",
    "This follow-along notebook will introduce basic Python syntax and constructs to familiarize people with the language. We will also familiarize people with the flow of Jupyter notebooks."
   ]
  },
  {
   "cell_type": "markdown",
   "metadata": {},
   "source": [
    "## Jupyter basics: commands at the top of the notebook\n",
    "\n",
    "Jupyter-notebooks follows a modular block format. You can create and delete cells, and also dictate the purpose of the cell. For example, this cell and the previous cell are in **Markdown** format, which is a language that allows people to format their text. To change between Python and Markdown, click on the drop-down menu right next to the fast forward button above.\n",
    "\n",
    "In **Markdown** cells, you'll notice that there is no ```In [ ]:``` on the left of the cell. This is because they do not contain code to run, but rather have more lengthy blocks of text like this description. You'll know if a block is Python if there is ```In [ ]:``` on the left."
   ]
  },
  {
   "cell_type": "code",
   "execution_count": 10,
   "metadata": {},
   "outputs": [
    {
     "data": {
      "text/plain": [
       "4"
      ]
     },
     "execution_count": 10,
     "metadata": {},
     "output_type": "execute_result"
    }
   ],
   "source": [
    "# This is a Python block now. Try clicking the run button on the top of this page\n",
    "# or type Shift + Enter to run this cell.\n",
    "2 + 2"
   ]
  },
  {
   "cell_type": "markdown",
   "metadata": {},
   "source": [
    "Notice how when you ran the previous cell, ```In [ ]:``` became ```In [1]:```. This is a handy way to keep\n",
    "track of all the order you run your cells. While ideally we run everything in sequential order, we still have the freedom to modify the cells and run them in whatever order we please. The ordering of the blocks can help you debug issues related to variables.\n",
    "\n",
    "Another observation is that after running blocks of Python code, there will be a corresponding ```Out[]:``` cell. Jupyter is great in that it also modularizes the output of all of your code - ```Out[1]:``` will only print out output from the same ```In``` cell!"
   ]
  },
  {
   "cell_type": "code",
   "execution_count": 11,
   "metadata": {},
   "outputs": [
    {
     "ename": "KeyboardInterrupt",
     "evalue": "",
     "output_type": "error",
     "traceback": [
      "\u001b[0;31m---------------------------------------------------------------------------\u001b[0m",
      "\u001b[0;31mKeyboardInterrupt\u001b[0m                         Traceback (most recent call last)",
      "\u001b[0;32m<ipython-input-11-89bcf8198547>\u001b[0m in \u001b[0;36m<module>\u001b[0;34m\u001b[0m\n\u001b[1;32m      1\u001b[0m \u001b[0;31m# Try running the below code and look at the next cell.\u001b[0m\u001b[0;34m\u001b[0m\u001b[0;34m\u001b[0m\u001b[0;34m\u001b[0m\u001b[0m\n\u001b[1;32m      2\u001b[0m \u001b[0;32mwhile\u001b[0m \u001b[0;32mTrue\u001b[0m\u001b[0;34m:\u001b[0m\u001b[0;34m\u001b[0m\u001b[0;34m\u001b[0m\u001b[0m\n\u001b[0;32m----> 3\u001b[0;31m     \u001b[0;32mpass\u001b[0m\u001b[0;34m\u001b[0m\u001b[0;34m\u001b[0m\u001b[0m\n\u001b[0m",
      "\u001b[0;31mKeyboardInterrupt\u001b[0m: "
     ]
    }
   ],
   "source": [
    "# Try running the below code and look at the next cell.\n",
    "while True:\n",
    "    pass"
   ]
  },
  {
   "cell_type": "markdown",
   "metadata": {},
   "source": [
    "Notice how on the left,```In[*]``` doesn't become ```In[2]```. This is because I made\n",
    "this a simple infinite loop, and the block will never finish. The purpose of this is for you to try out the \n",
    "square button next to **Run** on the top of the notebook to cancel any cells that are still processing."
   ]
  },
  {
   "cell_type": "markdown",
   "metadata": {},
   "source": [
    "Next to the square, we have the restart and the fast forward buttons. The restart erases all variables from the kernel, and the fast forward does the restart then reruns each cell. These are great for making sure that all of your steps in the right order and that your notebook works from start to finish."
   ]
  },
  {
   "cell_type": "markdown",
   "metadata": {},
   "source": [
    "Finally, we have the cut, copy, and paste buttons to the left of the **Run** button. The arrow keys also the cells up and down. These act directly on the cells and give you the freedom to manipulate cells pretty easily. To insert a cell, click the plus button next to the save button on the very left. To delete a cell, select the cell of interest by clicking the `In [ ]: ` section (it should be highlighted in blue) and typing `dd`. You can click the **Help** button and go down to **Keyboard Shortcuts** to see what shortcuts are available. You can also edit and create new shortcuts to your own liking."
   ]
  },
  {
   "cell_type": "markdown",
   "metadata": {},
   "source": [
    "# Python Tutorial\n",
    "\n",
    "Now that we have a sense of how Jupyter works, let's proceed with a basic introduction to Python. Python is an interpreted language, which means that we do not need to compile code (eg. C++, Java) in order to program. This means that all we need to do is open a Python interpreter (eg. the blocks of code with `In []:`, type code, and immediately see the execution. Thus, we can test and learn Python syntax relatively quickly."
   ]
  },
  {
   "cell_type": "markdown",
   "metadata": {},
   "source": [
    "## Print statement\n",
    "\n",
    "The first thing to go over is the `print` statement. Python's is very straightforward: all you type is `print()`, and then the value that you want to print in the parentheses. Print will operate on many base data types, and it will also print any statements to be evaluated within the parentheses."
   ]
  },
  {
   "cell_type": "code",
   "execution_count": 16,
   "metadata": {},
   "outputs": [
    {
     "name": "stdout",
     "output_type": "stream",
     "text": [
      "Hello world!\n",
      "40.0\n",
      "3\n"
     ]
    }
   ],
   "source": [
    "print(\"Hello world!\")\n",
    "print(\"40.0\")\n",
    "print(1 + 2)"
   ]
  },
  {
   "cell_type": "markdown",
   "metadata": {},
   "source": [
    "In programming, all values have a type. Most programming languages share common types, eg. int, float, string. In Python, the list is a very common type of data that is used as well. The `type()` function will tell you what type the value in the parentheses is."
   ]
  },
  {
   "cell_type": "code",
   "execution_count": 12,
   "metadata": {},
   "outputs": [
    {
     "name": "stdout",
     "output_type": "stream",
     "text": [
      "<class 'int'>\n",
      "<class 'float'>\n",
      "<class 'str'>\n",
      "<class 'list'>\n"
     ]
    }
   ],
   "source": [
    "print(type(8))\n",
    "print(type(42.1))\n",
    "print(type(\"hi\"))\n",
    "print(type([]))"
   ]
  },
  {
   "cell_type": "markdown",
   "metadata": {},
   "source": [
    "## Variables\n",
    "A variable is a container that stores some value. We use variables to contextualize all of the values that we store. Python is dynamically typed, which means that we don't need to specify the type of a variable when we create it. This is great because we can easily move between data types if our program calls for it. The syntax for defining a variable is: `variable = value`."
   ]
  },
  {
   "cell_type": "code",
   "execution_count": 16,
   "metadata": {},
   "outputs": [
    {
     "name": "stdout",
     "output_type": "stream",
     "text": [
      "string\n",
      "5\n",
      "[1, 'hi', 81.9, 5]\n"
     ]
    }
   ],
   "source": [
    "x = \"string\"\n",
    "print(x)\n",
    "\n",
    "x = 5\n",
    "print(x)\n",
    "\n",
    "# defining a list - lists can have multiple types of data in them!\n",
    "y = [1, \"hi\", 81.9, x]\n",
    "print(y)"
   ]
  },
  {
   "cell_type": "code",
   "execution_count": null,
   "metadata": {},
   "outputs": [],
   "source": [
    "# Exercise: Define a variable z that is equal to x times 2 + 1, and then print the value of z."
   ]
  },
  {
   "cell_type": "markdown",
   "metadata": {},
   "source": [
    "Indexing for lists is much like R, except we start at 0. We use the following syntax to access the i'th element of the list: `list_name[i]`, where i is the index of the list. Python also has slicing, where you can access multiple elements of a list with `list_name[i:j]`. Slicing excludes the j'th element. Finally, a really cool trick to read from the back of the list is to use negative indexing. `list_name[-i]` will access the i'th element starting from the back of the list."
   ]
  },
  {
   "cell_type": "code",
   "execution_count": 20,
   "metadata": {},
   "outputs": [
    {
     "data": {
      "text/plain": [
       "5"
      ]
     },
     "execution_count": 20,
     "metadata": {},
     "output_type": "execute_result"
    }
   ],
   "source": [
    "#Exercise: access the 2nd element of y"
   ]
  },
  {
   "cell_type": "code",
   "execution_count": null,
   "metadata": {},
   "outputs": [],
   "source": [
    "#Exercise: access the first three elements of y using slicing"
   ]
  },
  {
   "cell_type": "code",
   "execution_count": null,
   "metadata": {},
   "outputs": [],
   "source": [
    "#Exercise: access the last element of y using negative indexing"
   ]
  },
  {
   "cell_type": "code",
   "execution_count": null,
   "metadata": {},
   "outputs": [],
   "source": []
  },
  {
   "cell_type": "code",
   "execution_count": null,
   "metadata": {},
   "outputs": [],
   "source": []
  },
  {
   "cell_type": "markdown",
   "metadata": {},
   "source": [
    "## Control Flow: If, else, elif\n",
    "\n",
    "Control flow refers to the methods that determine which sections of our "
   ]
  },
  {
   "cell_type": "code",
   "execution_count": null,
   "metadata": {},
   "outputs": [],
   "source": []
  },
  {
   "cell_type": "markdown",
   "metadata": {},
   "source": [
    "## Loops\n",
    "\n",
    "Code that is within a loop is executed for the number of times that the loop will run. In Python, there are two types of loops: the `while` and `for` loops. `For` loops are much more common, and in Python they also have more functionality, so we will only go over for loops.\n"
   ]
  },
  {
   "cell_type": "markdown",
   "metadata": {},
   "source": [
    "### For Loops\n"
   ]
  },
  {
   "cell_type": "code",
   "execution_count": 3,
   "metadata": {},
   "outputs": [
    {
     "name": "stdout",
     "output_type": "stream",
     "text": [
      "While loop\n",
      "0\n",
      "1\n",
      "2\n",
      "For loop\n",
      "0\n",
      "1\n",
      "2\n"
     ]
    }
   ],
   "source": [
    "# for loop that does the same thing\n",
    "for j in range(3):\n",
    "    print(j)"
   ]
  }
 ],
 "metadata": {
  "kernelspec": {
   "display_name": "Python 3",
   "language": "python",
   "name": "python3"
  },
  "language_info": {
   "codemirror_mode": {
    "name": "ipython",
    "version": 3
   },
   "file_extension": ".py",
   "mimetype": "text/x-python",
   "name": "python",
   "nbconvert_exporter": "python",
   "pygments_lexer": "ipython3",
   "version": "3.8.5"
  }
 },
 "nbformat": 4,
 "nbformat_minor": 5
}
